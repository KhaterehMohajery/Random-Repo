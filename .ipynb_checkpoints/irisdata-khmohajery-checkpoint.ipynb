{
 "cells": [
  {
   "cell_type": "markdown",
   "metadata": {
    "collapsed": false
   },
   "source": [
    "# Notebook and CSV Lab\n",
    "### This lab is designed to practice working with csv files in python using csv reader. In order to do this:\n",
    "###  - First it is required to read the csv file using the csv library and make a python list from the data in the file using the following code:"
   ]
  },
  {
   "cell_type": "markdown",
   "metadata": {
    "collapsed": true
   },
   "source": [
    "``` python\n",
    "import csv\n",
    "with open('iris.csv', 'rU') as f:\n",
    "    reader = csv.reader(f)\n",
    "    data = []\n",
    "    for row in reader:\n",
    "        data.append(row) \n",
    "    f.close()\n",
    "```"
   ]
  },
  {
   "cell_type": "markdown",
   "metadata": {},
   "source": [
    "### - The first item in the data contains the column names. By removing it, the column names are removed and only the observations remain."
   ]
  },
  {
   "cell_type": "markdown",
   "metadata": {},
   "source": [
    "``` python\n",
    "del data[0]\n",
    "```"
   ]
  },
  {
   "cell_type": "markdown",
   "metadata": {
    "collapsed": false
   },
   "source": [
    "### - The lenght of the remaining list after removing the the column names is equal to the number of observations:"
   ]
  },
  {
   "cell_type": "markdown",
   "metadata": {},
   "source": [
    "```python\n",
    "number_observation = len(data)\n",
    "print (\"number of observations = %s\" %number_observation)\n",
    "```"
   ]
  },
  {
   "cell_type": "markdown",
   "metadata": {
    "collapsed": false
   },
   "source": [
    "### - The type of the species in the fourth row of the data is can be reached as follow: "
   ]
  },
  {
   "cell_type": "markdown",
   "metadata": {},
   "source": [
    "```python\n",
    "print(data[3][4])\n",
    "```"
   ]
  },
  {
   "cell_type": "markdown",
   "metadata": {
    "collapsed": false
   },
   "source": [
    "### - The sepal length values are stored in the first entry in each list. To average it, all the values are added and then divided by the number of the observations:"
   ]
  },
  {
   "cell_type": "markdown",
   "metadata": {},
   "source": [
    "``` python\n",
    "summ = 0.0\n",
    "for item in data:\n",
    "    summ = summ + float(item[0])\n",
    "avg = summ / len(data)\n",
    "print(\"The avarege of sepal length = %s\" %avg)\n",
    "```"
   ]
  },
  {
   "cell_type": "markdown",
   "metadata": {
    "collapsed": false
   },
   "source": [
    "### - To calculate the average sepal length of setosa flowers, the code first check the species and only add the values if the species is setosa:"
   ]
  },
  {
   "cell_type": "markdown",
   "metadata": {},
   "source": [
    "``` python\n",
    "summ = 0.0 \n",
    "count = 0.0\n",
    "for item in data:\n",
    "    if item[4] == 'setosa':\n",
    "        summ = summ + float(item[0])\n",
    "        count = count + 1\n",
    "avg_setosta = summ / count\n",
    "print(\"Average sepal length of setosa flowers = %s\" %avg_setosta) \n",
    "``` "
   ]
  },
  {
   "cell_type": "markdown",
   "metadata": {
    "collapsed": false
   },
   "source": [
    "### - To calculate the average sepal length of a given specie, the following function gets the species' name looping through the list takes into account the ones that have the same name as the given name of speice:"
   ]
  },
  {
   "cell_type": "markdown",
   "metadata": {},
   "source": [
    "``` python\n",
    "def avg_species(specie):\n",
    "    summ = 0.0 \n",
    "    count = 0.0\n",
    "    for item in data:\n",
    "        if item[4] == str(specie):\n",
    "            summ = summ + float(item[0])\n",
    "            count = count + 1\n",
    "    avg_sp = summ / count\n",
    "    return(\"Average sepal length of %s flowers = %s\" % (specie,avg_sp))\n",
    "```"
   ]
  },
  {
   "cell_type": "markdown",
   "metadata": {},
   "source": [
    "```python\n",
    "print(avg_species(\"versicolor\"))\n",
    "```"
   ]
  },
  {
   "cell_type": "code",
   "execution_count": null,
   "metadata": {
    "collapsed": true
   },
   "outputs": [],
   "source": []
  },
  {
   "cell_type": "code",
   "execution_count": null,
   "metadata": {
    "collapsed": true
   },
   "outputs": [],
   "source": []
  },
  {
   "cell_type": "code",
   "execution_count": null,
   "metadata": {
    "collapsed": true
   },
   "outputs": [],
   "source": []
  },
  {
   "cell_type": "code",
   "execution_count": null,
   "metadata": {
    "collapsed": true
   },
   "outputs": [],
   "source": []
  }
 ],
 "metadata": {
  "anaconda-cloud": {},
  "kernelspec": {
   "display_name": "Python [conda root]",
   "language": "python",
   "name": "conda-root-py"
  },
  "language_info": {
   "codemirror_mode": {
    "name": "ipython",
    "version": 2
   },
   "file_extension": ".py",
   "mimetype": "text/x-python",
   "name": "python",
   "nbconvert_exporter": "python",
   "pygments_lexer": "ipython2",
   "version": "2.7.12"
  }
 },
 "nbformat": 4,
 "nbformat_minor": 1
}
